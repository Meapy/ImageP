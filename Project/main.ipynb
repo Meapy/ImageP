{
 "cells": [
  {
   "cell_type": "code",
   "execution_count": 114,
   "metadata": {},
   "outputs": [
    {
     "name": "stdout",
     "output_type": "stream",
     "text": [
      "cee) oO\n",
      "\n",
      "(pai Xiang Wei Tay\n",
      "\n",
      "online\n",
      "\n",
      "   \n",
      "\n",
      "Can we have a very faked conversation\n",
      "about it haha\n",
      "\n",
      "About what\n",
      "The blue ticks\n",
      "Oh hahaha sure\n",
      "\n",
      "Hey look the whatsapp arrows are blue\n",
      "now!\n",
      "\n",
      "Wait when did this happen? What does\n",
      "that mean\n",
      "\n",
      "Is this that whole thing about delivery\n",
      "statuses changing?\n",
      "\n",
      "The blue means it's actually read, right?\n",
      "\n",
      "As opposed to just Delivered?\n",
      "\n",
      "ABOUT TIME\n",
      "\n",
      " \n",
      "\f\n"
     ]
    }
   ],
   "source": [
    "import cv2 \n",
    "import numpy as np\n",
    "import matplotlib.pyplot as plt\n",
    "import pytesseract \n",
    "import re\n",
    "\n",
    "img = cv2.imread('data/WhatsApp.png')\n",
    "\n",
    "#create a function to extract text from image using pytesseract and put it into a txt file\n",
    "def extract_text(img,invert):\n",
    "    #convert the image to gray scale\n",
    "    gray = cv2.cvtColor(img, cv2.COLOR_BGR2GRAY)\n",
    "    if(invert):\n",
    "        num = 5\n",
    "    else:\n",
    "        num = 13\n",
    "\n",
    "    #apply dilation and erosion to remove some noise\n",
    "    kernel = np.ones((1, 1), np.uint8)\n",
    "    img = cv2.dilate(gray, kernel, iterations=1)\n",
    "    img = cv2.erode(gray, kernel, iterations=1)\n",
    "    #apply adaptive threshold to get image with only b&w (binarization)\n",
    "    #img = cv2.adaptiveThreshold(img, 255, cv2.ADAPTIVE_THRESH_GAUSSIAN_C, cv2.THRESH_BINARY, 31, num)\n",
    "    #apply a thrshold to get image with only b&w (binarization)\n",
    "    ret, img = cv2.threshold(img, 0, 255, cv2.THRESH_BINARY + cv2.THRESH_OTSU)\n",
    "    #invert the image\n",
    "    if invert:\n",
    "        img = cv2.bitwise_not(img)\n",
    "    #write the image into a temporary file\n",
    "    cv2.imwrite(\"data/output/temp.png\", img)\n",
    "    #read the text from the image\n",
    "    text = pytesseract.image_to_string(cv2.imread(\"data/output/temp.png\"))\n",
    "    #print the text\n",
    "    print(text)\n",
    "    #write the text into a txt file\n",
    "    f = open(\"data/output/tester.txt\", \"w\")\n",
    "    f.write(text)\n",
    "    f.close()\n",
    "    #delete the temporary file\n",
    "\n",
    "extract_text(img,False)"
   ]
  },
  {
   "cell_type": "code",
   "execution_count": null,
   "metadata": {},
   "outputs": [],
   "source": []
  }
 ],
 "metadata": {
  "interpreter": {
   "hash": "d8d5616dc35e6012ec79ff80005e7f591a067f24228e3251b1f3eb042fc481fb"
  },
  "kernelspec": {
   "display_name": "Python 3.9.1 64-bit ('venv': venv)",
   "language": "python",
   "name": "python3"
  },
  "language_info": {
   "codemirror_mode": {
    "name": "ipython",
    "version": 3
   },
   "file_extension": ".py",
   "mimetype": "text/x-python",
   "name": "python",
   "nbconvert_exporter": "python",
   "pygments_lexer": "ipython3",
   "version": "3.9.1"
  },
  "orig_nbformat": 4
 },
 "nbformat": 4,
 "nbformat_minor": 2
}