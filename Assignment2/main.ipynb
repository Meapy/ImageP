{
 "cells": [
  {
   "cell_type": "code",
   "execution_count": 1,
   "metadata": {},
   "outputs": [],
   "source": [
    "import cv2\n",
    "import numpy as np\n",
    "import matplotlib.pyplot as plt\n",
    "\n",
    "# Load the image data/Boss.bmp\n",
    "img = cv2.imread('data/Boss.bmp')\n",
    "\n",
    "#convert the image to grayscale\n",
    "gray = cv2.cvtColor(img, cv2.COLOR_BGR2GRAY)\n",
    "\n",
    "\n",
    "#using adative thresholding seperate the black from the white in gray\n",
    "thresh = cv2.adaptiveThreshold(gray, 255, cv2.ADAPTIVE_THRESH_GAUSSIAN_C, cv2.THRESH_BINARY, 11, 6)\n",
    "\n",
    "#make all the pixels that are not black transparent in thresh\n",
    "ret, mask = cv2.threshold(thresh, 127, 255, cv2.THRESH_BINARY)\n",
    "\n",
    "#remove all the smalll black blobs in mask by using morphology \n",
    "kernel = np.ones((1,1), np.uint8)\n",
    "mask = cv2.morphologyEx(mask, cv2.MORPH_OPEN, kernel)\n",
    "\n",
    "#display the mask\n",
    "cv2.imshow(\"mask\",mask)\n",
    "cv2.waitKey(0)\n",
    "\n",
    "\n",
    "\n"
   ]
  }
 ],
 "metadata": {
  "interpreter": {
   "hash": "d8d5616dc35e6012ec79ff80005e7f591a067f24228e3251b1f3eb042fc481fb"
  },
  "kernelspec": {
   "display_name": "Python 3.9.1 64-bit ('venv': venv)",
   "name": "python3"
  },
  "language_info": {
   "codemirror_mode": {
    "name": "ipython",
    "version": 3
   },
   "file_extension": ".py",
   "mimetype": "text/x-python",
   "name": "python",
   "nbconvert_exporter": "python",
   "pygments_lexer": "ipython3",
   "version": "3.9.1"
  },
  "orig_nbformat": 4
 },
 "nbformat": 4,
 "nbformat_minor": 2
}
