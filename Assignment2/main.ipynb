{
 "cells": [
  {
   "cell_type": "code",
   "execution_count": 1,
   "metadata": {},
   "outputs": [
    {
     "data": {
      "text/plain": [
       "True"
      ]
     },
     "execution_count": 1,
     "metadata": {},
     "output_type": "execute_result"
    }
   ],
   "source": [
    "import cv2\n",
    "import numpy as np\n",
    "import matplotlib.pyplot as plt\n",
    "\n",
    "# Load the image data/Boss.bmp\n",
    "img = cv2.imread('data/Boss.bmp')\n",
    "\n",
    "#convert the image to grayscale\n",
    "gray = cv2.cvtColor(img, cv2.COLOR_BGR2GRAY)\n",
    "\n",
    "#using adative thresholding seperate the black from the white in gray\n",
    "thresh = cv2.adaptiveThreshold(gray, 255, cv2.ADAPTIVE_THRESH_GAUSSIAN_C, cv2.THRESH_BINARY, 11, 8)\n",
    "\n",
    "#create a function to remove small black pixels from the image \n",
    "def remove_small_black_pixels(img, size):\n",
    "    #find the contours of the image\n",
    "    contours, hierarchy = cv2.findContours(img, cv2.RETR_TREE, cv2.CHAIN_APPROX_SIMPLE)\n",
    "    #create a copy of the image\n",
    "    img_copy = img.copy()\n",
    "    #for each contour\n",
    "    for cnt in contours:\n",
    "        #if the contour is smaller than the size, remove it\n",
    "        if cv2.contourArea(cnt) < size:\n",
    "            cv2.drawContours(img_copy, [cnt], 0, (0,0,0), -1)\n",
    "    #return the image\n",
    "    return img_copy\n",
    "clean_Image = cv2.bitwise_not(remove_small_black_pixels(cv2.bitwise_not(thresh), 5)) #used for cropping\n",
    "\n",
    "#get the contours of the image\n",
    "edged = cv2.Canny(clean_Image, 30, 200) # without canny, contour is created around whole image\n",
    "contours, hierarchy = cv2.findContours(edged, cv2.RETR_TREE, cv2.CHAIN_APPROX_SIMPLE)\n",
    "result = clean_Image.copy()\n",
    "boxes = []\n",
    "for c in contours:\n",
    "    (x, y, w, h) = cv2.boundingRect(c)\n",
    "    boxes.append([x,y, x+w,y+h])\n",
    "\n",
    "boxes = np.asarray(boxes)\n",
    "left = np.min(boxes[:,0])\n",
    "top = np.min(boxes[:,1])\n",
    "right = np.max(boxes[:,2])\n",
    "bottom = np.max(boxes[:,3])\n",
    "\n",
    "#crops around the contour of the image\n",
    "ROI = thresh[top:bottom, left:right].copy()\n",
    "ROI_original = img[top:bottom, left:right].copy() # cropped image of the original image\n",
    "#smooth the image\n",
    "ROI_smooth = cv2.GaussianBlur(ROI_original, (5,5), 0)\n",
    "\n",
    "ret, thresh = cv2.threshold(ROI, 180, 255, cv2.THRESH_BINARY)\n",
    "ROI_original[thresh == 255] = 255\n",
    "\n",
    "cv2.imshow('ROI', ROI_original)\n",
    "cv2.waitKey(0)\n",
    "\n",
    "#save the image to data/Boss_transparent.bmp\n",
    "cv2.imwrite('data/Boss_transparent.png', ROI)\n",
    "\n",
    "\n",
    "\n"
   ]
  },
  {
   "cell_type": "code",
   "execution_count": null,
   "metadata": {},
   "outputs": [],
   "source": [
    "\n"
   ]
  }
 ],
 "metadata": {
  "interpreter": {
   "hash": "d8d5616dc35e6012ec79ff80005e7f591a067f24228e3251b1f3eb042fc481fb"
  },
  "kernelspec": {
   "display_name": "Python 3.9.1 64-bit ('venv': venv)",
   "name": "python3"
  },
  "language_info": {
   "codemirror_mode": {
    "name": "ipython",
    "version": 3
   },
   "file_extension": ".py",
   "mimetype": "text/x-python",
   "name": "python",
   "nbconvert_exporter": "python",
   "pygments_lexer": "ipython3",
   "version": "3.9.1"
  },
  "orig_nbformat": 4
 },
 "nbformat": 4,
 "nbformat_minor": 2
}
