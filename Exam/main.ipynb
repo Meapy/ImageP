{
 "cells": [
  {
   "cell_type": "markdown",
   "metadata": {},
   "source": [
    "Aa single Jupyter Notebook, which, when run, extracts the length, width and orientation of a cell, given that 1 pixel = 25 nm \n",
    "the output is an image of the cell with the dimensions shown on the image as _____ μm x _____ μm and _____ °.\n",
    "the user interface is simple and only read ins and outputs a single image.\n",
    "\n",
    "The code works by \n",
    "creating a binary mask from the image using thresholding and then filling in the threshold \n",
    "then the contours are extracted from the thresholded image, because all the small gaps are filled in, it leaves with less countours to deal with and only the contours around the cell\n",
    "the contours are Sorted by area so that the outline of the cell is the largest contour\n",
    "then an appropriate shape is placed around the contours to extract its dimensions in pixels\n",
    "and then then pixel messurements are converted to microns (μm)\n",
    "- Daniel Krasovski C18357323\n"
   ]
  },
  {
   "cell_type": "code",
   "execution_count": 1,
   "metadata": {},
   "outputs": [],
   "source": [
    "import cv2\n",
    "import numpy as np\n",
    "import easygui\n",
    "import os\n",
    "\n",
    "# Load the image\n",
    "f = easygui.fileopenbox(filetypes=[\"*.jpg\",\"*.jpeg\",\"*.png\"])\n",
    "img = cv2.imread(f)\n",
    "\n",
    "#smooth the image\n",
    "img = cv2.GaussianBlur(img, (1,1), 0)\n",
    "\n",
    "# Convert to grayscale\n",
    "gray = cv2.cvtColor(img, cv2.COLOR_BGR2GRAY)\n",
    "\n",
    "# Create a binary mask from the image using edge detection\n",
    "ret, thresh = cv2.threshold(gray, 180, 255, cv2.THRESH_BINARY) #https://d-nb.info/1049760700/34 \n",
    "#create a function to remove small white pixels from the image\n",
    "def remove_small_white_pixels(img, size):\n",
    "    # find the contours of the image\n",
    "    contours, hierarchy = cv2.findContours(img, cv2.RETR_TREE, cv2.CHAIN_APPROX_SIMPLE)\n",
    "    # create a copy of the image\n",
    "    img_copy = img.copy()\n",
    "    # for each contour\n",
    "    for cnt in contours:\n",
    "        # if the contour is smaller than the size, remove it\n",
    "        if cv2.contourArea(cnt) < size:\n",
    "            cv2.drawContours(img_copy, [cnt], 0, (0, 0, 0), -1)\n",
    "    # return the image\n",
    "    return img_copy\n",
    "\n",
    "thresh = remove_small_white_pixels(thresh, 100)\n",
    "\n"
   ]
  },
  {
   "cell_type": "code",
   "execution_count": null,
   "metadata": {},
   "outputs": [],
   "source": [
    "\n",
    "edged = cv2.Canny(thresh, 30, 200) # http://www.ijeee.net/uploadfile/2013/0702/20130702104409134.pdf\n",
    "\n",
    "#Extract the contours in the binary image\n",
    "contours, hierarchy = cv2.findContours(edged, cv2.RETR_TREE, cv2.CHAIN_APPROX_SIMPLE) \n",
    "#Sort the contours by area so that the outline of the cell is the largest contour\n",
    "contours = sorted(contours, key=cv2.contourArea, reverse=True)\n",
    "\n",
    "#draw the contours on the image\n",
    "cv2.drawContours(img, contours, -1, (0, 255, 0), 3)\n",
    "\n",
    "\n"
   ]
  },
  {
   "cell_type": "code",
   "execution_count": null,
   "metadata": {},
   "outputs": [],
   "source": [
    "# draw an ellipse around the cell\n",
    "cnt = contours[0]\n",
    "ellipse = cv2.fitEllipse(cnt)\n",
    "ellipse = cv2.ellipse(img,ellipse,(0,255,0),2)\n",
    "\n",
    "#extract the dimensions of the eclipse\n",
    "(x,y),(MA,ma),angle = cv2.fitEllipse(cnt)\n",
    "\n",
    "print(cv2.contourArea(contours[0]))\n",
    "#convert the messurments to microns where 1 pixel = 25nm and 1nm is 0.001 microns\n",
    "x = x*25*0.001\n",
    "y = y*25*0.001\n",
    "MA = MA *25*0.001\n",
    "ma = ma *25*0.001\n",
    "\n",
    "#write on the image: (x μm) x (y μm) and (angle °) to the top left corner\n",
    "font = cv2.FONT_HERSHEY_COMPLEX\n",
    "cv2.putText(img, '{:.2f} um x {:.2f} um and {:.2f} degrees'.format(MA,ma,angle), (10,30), font, 1, (0,0,255), 2, cv2.LINE_AA)\n",
    "\n",
    "#show the image\n",
    "cv2.imshow('Pollen', img)\n",
    "cv2.waitKey(0)\n",
    "cv2.destroyAllWindows()"
   ]
  }
 ],
 "metadata": {
  "interpreter": {
   "hash": "fd243b9ecb5a60b8b08fe2b2c0dbba0b244391f69c3a2360cc6b18932478f505"
  },
  "kernelspec": {
   "display_name": "Python 3.9.9 64-bit ('venv': venv)",
   "language": "python",
   "name": "python3"
  },
  "language_info": {
   "codemirror_mode": {
    "name": "ipython",
    "version": 3
   },
   "file_extension": ".py",
   "mimetype": "text/x-python",
   "name": "python",
   "nbconvert_exporter": "python",
   "pygments_lexer": "ipython3",
   "version": "3.9.9"
  },
  "orig_nbformat": 4
 },
 "nbformat": 4,
 "nbformat_minor": 2
}
